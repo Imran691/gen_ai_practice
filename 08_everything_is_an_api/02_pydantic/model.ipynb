{
 "cells": [
  {
   "cell_type": "markdown",
   "metadata": {},
   "source": [
    "## Pydantic : Data Validation using Python type hints\n",
    "* Data validation library in Python\n",
    "    * IDE Type Hints\n",
    "    * Data Validation\n",
    "    * JSON Serialization"
   ]
  },
  {
   "cell_type": "code",
   "execution_count": null,
   "metadata": {},
   "outputs": [],
   "source": [
    "%pip install pydantic"
   ]
  },
  {
   "cell_type": "markdown",
   "metadata": {},
   "source": [
    "### How to use Pydantic"
   ]
  },
  {
   "cell_type": "code",
   "execution_count": null,
   "metadata": {},
   "outputs": [],
   "source": [
    "from pydantic import BaseModel\n",
    "\n",
    "# import BaseModel class from pydantic module\n",
    "# create a class that inherits from BaseModel class\n",
    "# Inside the class define fileds of the model as class variables\n",
    "\n",
    "class User(BaseModel):\n",
    "    name:str\n",
    "    email: str\n",
    "    account_id: int\n",
    "\n",
    "# create an instance of the model and pass the data as keyword arguments\n",
    "    \n",
    "user : User = User(\n",
    "    name = \"Jack\",\n",
    "    email= \"jack@mail.com\",\n",
    "    account_id= 123\n",
    ")\n",
    "print(user)\n",
    "print(user.name)\n",
    "\n",
    "# If you already have the data and want to put inside the model, e.g. response from an external API\n",
    "# You can do this by unpacking a dictionary\n",
    "\n",
    "user_data = {\n",
    "    'name' : 'Jack',\n",
    "    'email' : 'jack@mail.com',\n",
    "    'account_id' : 123,\n",
    "}\n",
    "user = User(**user_data)"
   ]
  },
  {
   "cell_type": "markdown",
   "metadata": {},
   "source": [
    "## Data Validation\n",
    "* If we try to ceate an object with a wrong type of data, it will fail right then & there"
   ]
  },
  {
   "cell_type": "code",
   "execution_count": null,
   "metadata": {},
   "outputs": [],
   "source": [
    "user = User(\n",
    "    name = \"Jack\",\n",
    "    email= \"jack@mail.com\",\n",
    "    account_id= 'Hello'     # creates validation error\n",
    ")\n",
    "print(user)"
   ]
  },
  {
   "cell_type": "code",
   "execution_count": null,
   "metadata": {},
   "outputs": [],
   "source": [
    "%pip install pydantic[email]"
   ]
  },
  {
   "cell_type": "code",
   "execution_count": null,
   "metadata": {},
   "outputs": [],
   "source": [
    "# In order for validation for more complex type of data, e.g. email\n",
    "\n",
    "from pydantic import BaseModel, EmailStr\n",
    "\n",
    "\n",
    "class User(BaseModel):\n",
    "    name:str\n",
    "    email: EmailStr\n",
    "    account_id: int\n",
    "\n",
    "user = User(\n",
    "    name = \"Jack\",\n",
    "    email= \"jack\",      # can't pass simple string as email\n",
    "    account_id= 123     \n",
    ")\n",
    "print(user)"
   ]
  },
  {
   "cell_type": "markdown",
   "metadata": {},
   "source": [
    "## Custom Validation\n",
    "* To add custom validation logic to our model"
   ]
  },
  {
   "cell_type": "code",
   "execution_count": null,
   "metadata": {},
   "outputs": [],
   "source": [
    "# e.g. we want to assert that all account IDs must be a valid positive number\n",
    "# we will get validator decorator from pydantic\n",
    "\n",
    "from pydantic import BaseModel, EmailStr, validator\n",
    "\n",
    "class User(BaseModel):\n",
    "    name:str\n",
    "    email: EmailStr\n",
    "    account_id: int\n",
    "\n",
    "# validation logic as a class function to user model\n",
    "# pass the keyword whose data is to be validated in validator decorator\n",
    "    @validator(\"account_id\")\n",
    "    def validate_account_id(cls, value:int):\n",
    "        if value <= 0:  # validation condition\n",
    "            raise ValueError(f\"Account ID must be positive: {value}\")\n",
    "        return value\n",
    "\n",
    "user = User(\n",
    "    name = \"Jack\",\n",
    "    email= \"jack@email.com\",      \n",
    "    account_id= -2    # account_id can't be a negative number \n",
    ")\n",
    "print(user)"
   ]
  },
  {
   "cell_type": "markdown",
   "metadata": {},
   "source": [
    "## JSON Serialization\n",
    "* To convert pydantic models to and from JSON\n",
    "* To convert a pydantic model to JSON, We can call JSON() method on the instance"
   ]
  },
  {
   "cell_type": "code",
   "execution_count": null,
   "metadata": {},
   "outputs": [],
   "source": [
    "user_json_str = user.json()\n",
    "print(user_json_str)\n",
    "\n",
    "# To convert JSON back to pydantice use User_parse_raw() method"
   ]
  }
 ],
 "metadata": {
  "kernelspec": {
   "display_name": "myenv3_12",
   "language": "python",
   "name": "python3"
  },
  "language_info": {
   "codemirror_mode": {
    "name": "ipython",
    "version": 3
   },
   "file_extension": ".py",
   "mimetype": "text/x-python",
   "name": "python",
   "nbconvert_exporter": "python",
   "pygments_lexer": "ipython3",
   "version": "3.11.5"
  }
 },
 "nbformat": 4,
 "nbformat_minor": 2
}
