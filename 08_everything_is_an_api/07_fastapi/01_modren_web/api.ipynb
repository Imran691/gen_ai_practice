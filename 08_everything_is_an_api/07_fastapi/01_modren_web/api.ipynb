{
 "cells": [
  {
   "cell_type": "markdown",
   "metadata": {},
   "source": [
    "* Current standard of API is JSON input & JSON output\n",
    "\n",
    "* Archetecture for APIs are the following\n",
    "* REST APIs\n",
    "* JRPC \n",
    "* graphQL,    etc\n",
    "\n",
    "    * We will use REST APIs archetecture\n",
    "\n",
    "* Python frameworks for creating APIs\n",
    "    * Django\n",
    "    * Flask\n",
    "    * FastAPI\n",
    "        \n",
    "        * We will use FastAPI \n",
    "\n",
    "* Interface of FastAPI is on python whereas core (backend) development of FastAPI is on Rust(Language)\n",
    "    * Rust is similar to web-assembly language\n",
    "    * Every code we write is converted into web-assembly language\n",
    "    * And is performed the fastest on web-archetecture\n",
    "    * FastAPI provides built in API documentation in swagger\n",
    "\n",
    "\n",
    "* Reuirements for creating APIs\n",
    "    * API documentation\n",
    "    * Creating mock/test server\n",
    "    * Data validation\n",
    "        * These are done by FastAPI\n"
   ]
  },
  {
   "cell_type": "code",
   "execution_count": null,
   "metadata": {},
   "outputs": [],
   "source": []
  }
 ],
 "metadata": {
  "language_info": {
   "name": "python"
  }
 },
 "nbformat": 4,
 "nbformat_minor": 2
}
