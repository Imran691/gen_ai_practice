{
 "cells": [
  {
   "cell_type": "markdown",
   "metadata": {},
   "source": [
    "## Python frameworks for GenAI powered APIs development\n",
    "* FastAPI : high performance, asynchronous capable, type hinting for data validation\n",
    "* Hugging Face Transformers\n",
    "* Django REST Framework"
   ]
  }
 ],
 "metadata": {
  "language_info": {
   "name": "python"
  }
 },
 "nbformat": 4,
 "nbformat_minor": 2
}
