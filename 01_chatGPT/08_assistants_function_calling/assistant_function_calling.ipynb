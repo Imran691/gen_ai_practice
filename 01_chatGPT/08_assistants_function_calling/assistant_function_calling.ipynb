{
 "cells": [
  {
   "cell_type": "markdown",
   "metadata": {},
   "source": [
    "## Assistants-API Function Calling\n",
    "* Here LLM will not be called twice as we did in ChatCompletions-API\n",
    "* Assistant will take input from the user twice\n",
    "* Here status of the run can be\n",
    "    * queued\n",
    "    * in-process\n",
    "    * completed & \n",
    "    * action required (assistant returns the function to be called to client and Run is paused)\n",
    "\n",
    "* Function calling: \n",
    "    * Allows us to describe functions to Assistant.\n",
    "    * Assistant intelligently returns the functions that need to be called alongwith their arguments\n",
    "    * The Assistant's API pauses execution during a Run when it invokes functions\n",
    "    * And we can suppply the results of function call to the Assistant to continue Run execution"
   ]
  },
  {
   "cell_type": "code",
   "execution_count": null,
   "metadata": {},
   "outputs": [],
   "source": []
  }
 ],
 "metadata": {
  "kernelspec": {
   "display_name": "python12",
   "language": "python",
   "name": "python3"
  },
  "language_info": {
   "name": "python",
   "version": "3.12.0"
  }
 },
 "nbformat": 4,
 "nbformat_minor": 2
}
