{
 "cells": [
  {
   "cell_type": "markdown",
   "metadata": {},
   "source": [
    "## Multimodality\n",
    "* Ability of GenAI to process data of multiple types, e.g. pictures, audio, text etc.\n",
    "* Transcribe: conversion of audio into text of same language\n",
    "* Translate:\n",
    "* Text To Speech(TTS): Conversion of Text into Audio\n",
    "* Speech To Text: Conversion of audio into Text (Can be transcribe or translate)"
   ]
  },
  {
   "cell_type": "code",
   "execution_count": null,
   "metadata": {},
   "outputs": [],
   "source": []
  }
 ],
 "metadata": {
  "language_info": {
   "name": "python"
  }
 },
 "nbformat": 4,
 "nbformat_minor": 2
}
