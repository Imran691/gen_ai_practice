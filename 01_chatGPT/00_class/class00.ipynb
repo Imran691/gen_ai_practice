{
 "cells": [
  {
   "cell_type": "code",
   "execution_count": null,
   "metadata": {},
   "outputs": [],
   "source": [
    "import os\n",
    "import openai\n",
    "\n",
    "from dotenv import load_dotenv, find_dotenv\n",
    "_ : bool = load_dotenv(find_dotenv()) # read local .env file\n",
    "openai.api_key: str = os.environ['OPENAI_API_KEY']"
   ]
  },
  {
   "cell_type": "code",
   "execution_count": null,
   "metadata": {},
   "outputs": [],
   "source": [
    "# Let's start with a direct API calls to OpenAI.\n",
    "\n",
    "from collections.abc import Iterator\n",
    "from typing import Dict\n",
    "\n",
    "llm_model: str = \"gpt-3.5-turbo-1106\"\n",
    "\n",
    "def get_completion(prompt: str, model: str=llm_model)->str:\n",
    "    messages: [Dict[str: str]] = [{\"role\": \"user\", \"content\": prompt}]\n",
    "\n",
    "    # https://platform.openai.com/docs/guides/gpt/chat-completions-api\n",
    "    # https://cookbook.openai.com/examples/how_to_format_inputs_to_chatgpt_models#2-an-example-chat-api-call\n",
    "    response: Iterator  = openai.ChatCompletion.create(\n",
    "        model=model,\n",
    "        messages=messages,\n",
    "        temperature=0, \n",
    "    )\n",
    "    \n",
    "    print(response); print(\"=========\")\n",
    "    \n",
    "    return response.choices[0].message[\"content\"]\n",
    "get_completion(\"What is 1+1?\")"
   ]
  }
 ],
 "metadata": {
  "kernelspec": {
   "display_name": "python12",
   "language": "python",
   "name": "python3"
  },
  "language_info": {
   "codemirror_mode": {
    "name": "ipython",
    "version": 3
   },
   "file_extension": ".py",
   "mimetype": "text/x-python",
   "name": "python",
   "nbconvert_exporter": "python",
   "pygments_lexer": "ipython3",
   "version": "3.12.0"
  }
 },
 "nbformat": 4,
 "nbformat_minor": 2
}
