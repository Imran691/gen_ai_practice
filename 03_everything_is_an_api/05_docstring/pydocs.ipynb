{
 "cells": [
  {
   "cell_type": "markdown",
   "metadata": {},
   "source": [
    "## Python Docstrings\n",
    "* Comments: written by coder for self understanding\n",
    "* Docstrings: Intellicence provided by the code \n",
    "\n",
    "* special kind of comment used to document Python modules, functions, classes, and methods. \n",
    "* They provide a concise and informative way to explain the purpose, usage, and behavior of your code."
   ]
  },
  {
   "cell_type": "code",
   "execution_count": null,
   "metadata": {},
   "outputs": [],
   "source": [
    "# When we write print() function and hover the cursor on it, an intellicence is popped up \n",
    "# This intellicence is docstring, written by the coder who cretaed this function\n",
    "\n",
    "print()"
   ]
  },
  {
   "cell_type": "code",
   "execution_count": null,
   "metadata": {},
   "outputs": [],
   "source": [
    "# ALternatively we can see the docstirng of any function by using dunder function/ magic function  (__doc__) by using dot notation with the function name\n",
    "\n",
    "len.__doc__\n",
    "\n",
    "# or we can use it with print (to get is printed in a better shape)\n",
    "\n",
    "print(str.__doc__)"
   ]
  },
  {
   "cell_type": "code",
   "execution_count": null,
   "metadata": {},
   "outputs": [],
   "source": [
    "# or by using help() function\n",
    "\n",
    "help(str)"
   ]
  },
  {
   "cell_type": "markdown",
   "metadata": {},
   "source": [
    "### How to write docstring\n",
    "* docstring is written in tripple quotes (single or double)"
   ]
  },
  {
   "cell_type": "code",
   "execution_count": 9,
   "metadata": {},
   "outputs": [],
   "source": [
    "def add_numbers(num1: int, num2: int) -> int:\n",
    "    \"\"\"\n",
    "    This function adds two numbers.\n",
    "    num1: first number\n",
    "    num2: second number\n",
    "    return: sum of two numbers\n",
    "    \"\"\"\n",
    "    return num1 + num2"
   ]
  },
  {
   "cell_type": "code",
   "execution_count": null,
   "metadata": {},
   "outputs": [],
   "source": [
    "print(add_numbers.__doc__)"
   ]
  },
  {
   "cell_type": "code",
   "execution_count": 21,
   "metadata": {},
   "outputs": [],
   "source": [
    "class Student():\n",
    "    \"\"\"Student class manages student's data\"\"\"\n",
    "    def __init__(self, name: str, last_name: str, age:int) -> None:\n",
    "        \"\"\"create a new student object\"\"\"\n",
    "        self.name = name\n",
    "        self.last_name = last_name\n",
    "        self.age = age\n",
    "\n",
    "s1 : Student = Student(\"Imran\", \"Ahmad\", 35)"
   ]
  },
  {
   "cell_type": "code",
   "execution_count": 22,
   "metadata": {},
   "outputs": [
    {
     "name": "stdout",
     "output_type": "stream",
     "text": [
      "Help on class Student in module __main__:\n",
      "\n",
      "class Student(builtins.object)\n",
      " |  Student(name: str, last_name: str, age: int) -> None\n",
      " |  \n",
      " |  Student class manages student's data\n",
      " |  \n",
      " |  Methods defined here:\n",
      " |  \n",
      " |  __init__(self, name: str, last_name: str, age: int) -> None\n",
      " |      create a new student object\n",
      " |  \n",
      " |  ----------------------------------------------------------------------\n",
      " |  Data descriptors defined here:\n",
      " |  \n",
      " |  __dict__\n",
      " |      dictionary for instance variables (if defined)\n",
      " |  \n",
      " |  __weakref__\n",
      " |      list of weak references to the object (if defined)\n",
      "\n"
     ]
    }
   ],
   "source": [
    "help(Student)"
   ]
  }
 ],
 "metadata": {
  "kernelspec": {
   "display_name": "py311",
   "language": "python",
   "name": "python3"
  },
  "language_info": {
   "codemirror_mode": {
    "name": "ipython",
    "version": 3
   },
   "file_extension": ".py",
   "mimetype": "text/x-python",
   "name": "python",
   "nbconvert_exporter": "python",
   "pygments_lexer": "ipython3",
   "version": "3.11.5"
  }
 },
 "nbformat": 4,
 "nbformat_minor": 2
}
