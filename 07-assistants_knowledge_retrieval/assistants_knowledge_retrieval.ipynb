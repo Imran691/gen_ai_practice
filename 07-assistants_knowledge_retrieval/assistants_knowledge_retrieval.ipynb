{
 "cells": [
  {
   "cell_type": "code",
   "execution_count": null,
   "metadata": {},
   "outputs": [],
   "source": [
    "# PostGreSQL data base\n",
    "# Azure\n",
    "# Google\n",
    "# AWS\n",
    "# Dockers\n",
    "# Terraform"
   ]
  },
  {
   "cell_type": "markdown",
   "metadata": {},
   "source": [
    "## Assistant API- Knowledge Retrieval\n",
    "* External information can be provided to LLM\n",
    "    * Fine Tune: Teaching the LLM new information (very expensve & requires expert skills)\n",
    "    * Knowledge Retrieval: External informaion is converted into embeddings and saving in vector data bases. And embeddings related to the questions are provided in responses.\n",
    "    * Function Calling"
   ]
  },
  {
   "cell_type": "markdown",
   "metadata": {},
   "source": [
    "### Providing information to LLM \n",
    "* At Assistant Level: Publically available and can be accessed by other assistants.\n",
    "* At Thread Level: Available only at particulat Thread Level"
   ]
  }
 ],
 "metadata": {
  "language_info": {
   "name": "python"
  }
 },
 "nbformat": 4,
 "nbformat_minor": 2
}
